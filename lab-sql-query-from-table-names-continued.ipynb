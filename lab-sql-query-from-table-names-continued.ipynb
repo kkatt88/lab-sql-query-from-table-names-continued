{
  "cells": [
    {
      "cell_type": "markdown",
      "id": "7d930c89-4954-4e39-be5a-601c1dd89512",
      "metadata": {
        "id": "7d930c89-4954-4e39-be5a-601c1dd89512"
      },
      "source": [
        "# SQL query from table names - Continued"
      ]
    },
    {
      "cell_type": "code",
      "execution_count": null,
      "id": "TfuBTFyFeJlh",
      "metadata": {
        "colab": {
          "base_uri": "https://localhost:8080/"
        },
        "id": "TfuBTFyFeJlh",
        "outputId": "51df08ed-2307-4385-e6d4-a4cff3a2e331"
      },
      "outputs": [
        {
          "name": "stdout",
          "output_type": "stream",
          "text": [
            "Collecting python-dotenv\n",
            "  Downloading python_dotenv-1.0.1-py3-none-any.whl.metadata (23 kB)\n",
            "Downloading python_dotenv-1.0.1-py3-none-any.whl (19 kB)\n",
            "Installing collected packages: python-dotenv\n",
            "Successfully installed python-dotenv-1.0.1\n"
          ]
        }
      ],
      "source": [
        "!pip install python-dotenv\n"
      ]
    },
    {
      "cell_type": "code",
      "execution_count": null,
      "id": "a03f026a",
      "metadata": {
        "id": "a03f026a"
      },
      "outputs": [],
      "source": [
        "from openai import OpenAI\n",
        "import os\n",
        "from dotenv import load_dotenv, find_dotenv\n",
        "_ = load_dotenv(find_dotenv())\n",
        "\n",
        "OPENAI_API_KEY  = os.getenv('OPENAI_API_KEY')"
      ]
    },
    {
      "cell_type": "markdown",
      "id": "53a05b80-88fd-42b2-ba89-763074ae74e9",
      "metadata": {
        "id": "53a05b80-88fd-42b2-ba89-763074ae74e9"
      },
      "source": [
        "## The old Prompt"
      ]
    },
    {
      "cell_type": "code",
      "execution_count": null,
      "id": "922f8d24",
      "metadata": {
        "id": "922f8d24"
      },
      "outputs": [],
      "source": [
        "#The old prompt\n",
        "old_context = [ {'role':'system', 'content':\"\"\"\n",
        "you are a bot to assist in create SQL commands, all your answers should start with \\\n",
        "this is your SQL, and after that an SQL that can do what the user request. \\\n",
        "Your Database is composed by a SQL database with some tables. \\\n",
        "Try to maintain the SQL order simple.\n",
        "Put the SQL command in white letters with a black background, and just after \\\n",
        "a simple and concise text explaining how it works.\n",
        "If the user ask for something that can not be solved with an SQL Order \\\n",
        "just answer something nice and simple, maximum 10 words, asking him for something that \\\n",
        "can be solved with SQL.\n",
        "\"\"\"} ]\n",
        "\n",
        "old_context.append( {'role':'system', 'content':\"\"\"\n",
        "first table:\n",
        "{\n",
        "  \"tableName\": \"employees\",\n",
        "  \"fields\": [\n",
        "    {\n",
        "      \"nombre\": \"ID_usr\",\n",
        "      \"tipo\": \"int\"\n",
        "    },\n",
        "    {\n",
        "      \"nombre\": \"name\",\n",
        "      \"tipo\": \"varchar\"\n",
        "    }\n",
        "  ]\n",
        "}\n",
        "\"\"\"\n",
        "})\n",
        "\n",
        "old_context.append( {'role':'system', 'content':\"\"\"\n",
        "second table:\n",
        "{\n",
        "  \"tableName\": \"salary\",\n",
        "  \"fields\": [\n",
        "    {\n",
        "      \"nombre\": \"ID_usr\",\n",
        "      \"type\": \"int\"\n",
        "    },\n",
        "    {\n",
        "      \"name\": \"year\",\n",
        "      \"type\": \"date\"\n",
        "    },\n",
        "    {\n",
        "      \"name\": \"salary\",\n",
        "      \"type\": \"float\"\n",
        "    }\n",
        "  ]\n",
        "}\n",
        "\"\"\"\n",
        "})\n",
        "\n",
        "old_context.append( {'role':'system', 'content':\"\"\"\n",
        "third table:\n",
        "{\n",
        "  \"tablename\": \"studies\",\n",
        "  \"fields\": [\n",
        "    {\n",
        "      \"name\": \"ID\",\n",
        "      \"type\": \"int\"\n",
        "    },\n",
        "    {\n",
        "      \"name\": \"ID_usr\",\n",
        "      \"type\": \"int\"\n",
        "    },\n",
        "    {\n",
        "      \"name\": \"educational_level\",\n",
        "      \"type\": \"int\"\n",
        "    },\n",
        "    {\n",
        "      \"name\": \"Institution\",\n",
        "      \"type\": \"varchar\"\n",
        "    },\n",
        "    {\n",
        "      \"name\": \"Years\",\n",
        "      \"type\": \"date\"\n",
        "    }\n",
        "    {\n",
        "      \"name\": \"Speciality\",\n",
        "      \"type\": \"varchar\"\n",
        "    }\n",
        "  ]\n",
        "}\n",
        "\"\"\"\n",
        "})"
      ]
    },
    {
      "cell_type": "markdown",
      "id": "377acaae-7dd0-4d13-bc68-9e33741c231c",
      "metadata": {
        "id": "377acaae-7dd0-4d13-bc68-9e33741c231c"
      },
      "source": [
        "## New Prompt.\n",
        "We are going to improve it following the instructions of a Paper from the Ohaio University: [How to Prompt LLMs for Text-to-SQL: A Study in Zero-shot, Single-domain, and Cross-domain Settings](https://arxiv.org/abs/2305.11853). I recommend you read that paper.\n",
        "\n",
        "For each table, we will define the structure using the same syntax as in a SQL create table command, and add the sample rows of the content.\n",
        "\n",
        "Finally, at the end of the prompt, we'll include some example queries with the SQL that the model should generate. This technique is called Few-Shot Samples, in which we provide the prompt with some examples to assist it in generating the correct SQL.\n"
      ]
    },
    {
      "cell_type": "code",
      "execution_count": null,
      "id": "5334f942",
      "metadata": {
        "id": "5334f942"
      },
      "outputs": [],
      "source": [
        "context = [ {'role':'system', 'content':\"\"\"\n",
        "You are a SQL assistant designed to generate **correct and efficient SQL queries** for a given database structure.\n",
        "Below is the schema with table definitions and some example data.\n",
        "\n",
        "### Database Schema:\n",
        "```sql\n",
        "CREATE TABLE products (\n",
        "    product_id INTEGER PRIMARY KEY,\n",
        "    product_name VARCHAR(100),\n",
        "    category VARCHAR(50),\n",
        "    price DECIMAL(10,2),\n",
        "    stock_quantity INTEGER\n",
        ");\n",
        "\n",
        "CREATE TABLE customers (\n",
        "    customer_id INTEGER PRIMARY KEY,\n",
        "    customer_name VARCHAR(50),\n",
        "    email VARCHAR(100),\n",
        "    city VARCHAR(50),\n",
        "    country VARCHAR(50)\n",
        ");\n",
        "\n",
        "CREATE TABLE orders (\n",
        "    order_id INTEGER PRIMARY KEY,\n",
        "    customer_id INTEGER,\n",
        "    order_date DATE,\n",
        "    total_price DECIMAL(10,2),\n",
        "    FOREIGN KEY (customer_id) REFERENCES customers(customer_id)\n",
        ");\n",
        "\n",
        "INSERT INTO products (product_id, product_name, category, price, stock_quantity) VALUES\n",
        "(1, 'Laptop', 'Electronics', 1200.00, 10),\n",
        "(2, 'Desk Chair', 'Furniture', 150.50, 25),\n",
        "(3, 'Wireless Mouse', 'Electronics', 30.00, 100);\n",
        "\n",
        "INSERT INTO customers (customer_id, customer_name, email, city, country) VALUES\n",
        "(1, 'Alice Johnson', 'alice@email.com', 'New York', 'USA'),\n",
        "(2, 'Bob Smith', 'bob@email.com', 'San Francisco', 'USA');\n",
        "\n",
        "INSERT INTO orders (order_id, customer_id, order_date, total_price) VALUES\n",
        "(101, 1, '2024-05-15', 1200.00),\n",
        "(102, 2, '2024-06-01', 180.50);\n",
        "\n",
        "### Instructions:\n",
        "- Generate **valid SQL queries using SQLite syntax**.\n",
        "- Keep the queries **concise and efficient**.\n",
        "- If a query requires multiple tables, **use appropriate JOIN operations**.\n",
        "- If a question cannot be answered based on the given schema, respond with `\"The answer is beyond this database.\"`\n",
        "\"\"\" } ]\n"
      ]
    },
    {
      "cell_type": "code",
      "execution_count": null,
      "id": "330e69b0-3f5f-4bb2-8185-aedded2bb993",
      "metadata": {
        "id": "330e69b0-3f5f-4bb2-8185-aedded2bb993"
      },
      "outputs": [],
      "source": [
        "context.append( {'role':'system', 'content':\"\"\"\n",
        " -- Maintain the SQL order simple and efficient as you can, using valid SQL Lite, answer the following questions for the table provided above.\n",
        "\n",
        "**Example 1**\n",
        "- **User Question**: \"Find the top 5 most expensive products.\"\n",
        "- **SQL Output**:\n",
        "```sql\n",
        "SELECT product_name, price\n",
        "FROM products\n",
        "ORDER BY price DESC\n",
        "LIMIT 5;\n",
        "\"\"\"\n",
        "})"
      ]
    },
    {
      "cell_type": "code",
      "execution_count": null,
      "id": "b90f417a",
      "metadata": {
        "id": "b90f417a"
      },
      "outputs": [],
      "source": [
        "def return_CCRMSQL(user_message, context):\n",
        "    client = OpenAI(\n",
        "    # This is the default and can be omitted\n",
        "    api_key=OPENAI_API_KEY,\n",
        ")\n",
        "\n",
        "    newcontext = context.copy()\n",
        "    newcontext.append({'role':'user', 'content':\"question: \" + user_message})\n",
        "\n",
        "    response = client.chat.completions.create(\n",
        "            model=\"gpt-4o\",\n",
        "            messages=newcontext,\n",
        "            temperature=0,\n",
        "        )\n",
        "\n",
        "    return (response.choices[0].message.content)"
      ]
    },
    {
      "cell_type": "markdown",
      "id": "9e0a4c11-dfe1-46fe-ac2b-3ff825f9749c",
      "metadata": {
        "id": "9e0a4c11-dfe1-46fe-ac2b-3ff825f9749c"
      },
      "source": [
        "## NL2SQL Samples\n",
        "We're going to review some examples generated with the old prompt and others with the new prompt."
      ]
    },
    {
      "cell_type": "code",
      "execution_count": null,
      "id": "59e8202c-ce34-487e-9037-c65a263423ed",
      "metadata": {
        "colab": {
          "base_uri": "https://localhost:8080/"
        },
        "id": "59e8202c-ce34-487e-9037-c65a263423ed",
        "outputId": "9215a8e7-0b78-4a96-90c6-e7d8699fccc0"
      },
      "outputs": [
        {
          "name": "stdout",
          "output_type": "stream",
          "text": [
            "The answer is beyond this database.\n"
          ]
        }
      ],
      "source": [
        "#new\n",
        "context_user = context.copy()\n",
        "print(return_CCRMSQL(\"\"\"how do i find the top salary\"\"\", context_user))"
      ]
    },
    {
      "cell_type": "code",
      "execution_count": null,
      "id": "9c4766b1-48a9-456e-bc6c-4b6f41909aa4",
      "metadata": {
        "colab": {
          "base_uri": "https://localhost:8080/"
        },
        "id": "9c4766b1-48a9-456e-bc6c-4b6f41909aa4",
        "outputId": "34e8371e-c5f2-4631-ce7c-7a40431e2e1d"
      },
      "outputs": [
        {
          "name": "stdout",
          "output_type": "stream",
          "text": [
            "This is your SQL:\n",
            "\n",
            "```sql\n",
            "SELECT MAX(salary) AS top_salary FROM salary;\n",
            "```\n",
            "\n",
            "This SQL command selects the maximum salary from the salary table, labeling it as top_salary.\n"
          ]
        }
      ],
      "source": [
        "#old\n",
        "old_context_user = old_context.copy()\n",
        "print(return_CCRMSQL(\"how do i find the top salary\", old_context_user))"
      ]
    },
    {
      "cell_type": "code",
      "execution_count": null,
      "id": "38d8d370-0524-4a28-bd54-5e5cddb08e2c",
      "metadata": {
        "colab": {
          "base_uri": "https://localhost:8080/"
        },
        "id": "38d8d370-0524-4a28-bd54-5e5cddb08e2c",
        "outputId": "d3d87e21-b7c5-4ea4-c9f7-339224ee6cc6"
      },
      "outputs": [
        {
          "name": "stdout",
          "output_type": "stream",
          "text": [
            "\"The answer is beyond this database.\"\n"
          ]
        }
      ],
      "source": [
        "#new\n",
        "print(return_CCRMSQL(\"What institution has the highest salary\", context_user))"
      ]
    },
    {
      "cell_type": "code",
      "execution_count": null,
      "id": "5aa318d4-dd9f-41db-8ff4-c1d87220f766",
      "metadata": {
        "colab": {
          "base_uri": "https://localhost:8080/"
        },
        "id": "5aa318d4-dd9f-41db-8ff4-c1d87220f766",
        "outputId": "605724a1-0d89-4ed9-d8ec-1aeeae6dc287"
      },
      "outputs": [
        {
          "name": "stdout",
          "output_type": "stream",
          "text": [
            "This is your SQL:\n",
            "```sql\n",
            "SELECT s.Institution\n",
            "FROM studies s\n",
            "JOIN salary sa ON s.ID_usr = sa.ID_usr\n",
            "GROUP BY s.Institution\n",
            "ORDER BY AVG(sa.salary) DESC\n",
            "LIMIT 1;\n",
            "```\n",
            "\n",
            "This SQL query joins the \"studies\" and \"salary\" tables on the ID_usr column. It then calculates the average salary for each institution, orders the results in descending order based on the average salary, and returns the institution with the highest average salary.\n"
          ]
        }
      ],
      "source": [
        "#old\n",
        "print(return_CCRMSQL(\"YOUR QUERY HERE\", old_context_user))"
      ]
    },
    {
      "cell_type": "markdown",
      "id": "0f31968e-74ad-4ae2-9537-b3d550b1be47",
      "metadata": {
        "id": "0f31968e-74ad-4ae2-9537-b3d550b1be47"
      },
      "source": [
        "# Exercise\n",
        " - Complete the prompts similar to what we did in class.\n",
        "     - Try at least 3 versions\n",
        "     - Be creative\n",
        " - Write a one page report summarizing your findings.\n",
        "     - Were there variations that didn't work well? i.e., where GPT either hallucinated or wrong.\n",
        "     - What did you learn?"
      ]
    },
    {
      "cell_type": "code",
      "execution_count": null,
      "id": "usTqvh36Gc5G",
      "metadata": {
        "id": "usTqvh36Gc5G"
      },
      "outputs": [],
      "source": []
    },
    {
      "cell_type": "markdown",
      "id": "tuTLjuNuEoB2",
      "metadata": {
        "id": "tuTLjuNuEoB2"
      },
      "source": [
        "# My own version with booksales and few shots:\n",
        "\n",
        "---\n",
        "\n"
      ]
    },
    {
      "cell_type": "markdown",
      "id": "Y8DZZDIvGa9F",
      "metadata": {
        "id": "Y8DZZDIvGa9F"
      },
      "source": [
        "Installing dotenv"
      ]
    },
    {
      "cell_type": "code",
      "execution_count": 2,
      "id": "OpUJ9vBmE8Sw",
      "metadata": {
        "colab": {
          "base_uri": "https://localhost:8080/"
        },
        "id": "OpUJ9vBmE8Sw",
        "outputId": "28397c36-421a-42d8-9ca1-356382203842"
      },
      "outputs": [
        {
          "name": "stdout",
          "output_type": "stream",
          "text": [
            "Collecting python-dotenv\n",
            "  Downloading python_dotenv-1.0.1-py3-none-any.whl.metadata (23 kB)\n",
            "Downloading python_dotenv-1.0.1-py3-none-any.whl (19 kB)\n",
            "Installing collected packages: python-dotenv\n",
            "Successfully installed python-dotenv-1.0.1\n"
          ]
        }
      ],
      "source": [
        "pip install python-dotenv\n"
      ]
    },
    {
      "cell_type": "code",
      "execution_count": 4,
      "id": "p_Bz6ymcEMDb",
      "metadata": {
        "colab": {
          "base_uri": "https://localhost:8080/"
        },
        "id": "p_Bz6ymcEMDb",
        "outputId": "1cfe345f-dfd3-42fe-e57b-5fb9dda41a6f"
      },
      "outputs": [
        {
          "name": "stdout",
          "output_type": "stream",
          "text": [
            "```sql\n",
            "SELECT strftime('%Y', s.sale_date) AS year, COUNT(s.sale_id) AS sales_count\n",
            "FROM sales s\n",
            "GROUP BY year\n",
            "ORDER BY sales_count DESC\n",
            "LIMIT 1;\n",
            "```\n"
          ]
        }
      ],
      "source": [
        "from openai import OpenAI\n",
        "import os\n",
        "from dotenv import load_dotenv, find_dotenv\n",
        "\n",
        "_ = load_dotenv(find_dotenv())\n",
        "OPENAI_API_KEY  = os.getenv('OPENAI_API_KEY')\n",
        "\n",
        "# Context\n",
        "context = [ {'role':'system', 'content':\"\"\"\n",
        "-- Table Definitions\n",
        "\n",
        "CREATE TABLE books (\n",
        "  book_id INT,\n",
        "  title VARCHAR,\n",
        "  author_id INT,\n",
        "  genre VARCHAR,\n",
        "  year_published INT\n",
        ");\n",
        "\n",
        "-- Sample rows\n",
        "-- (1, '1984', 1, 'Dystopian', 1949)\n",
        "-- (2, 'Brave New World', 2, 'Dystopian', 1932)\n",
        "-- (3, 'Animal Farm', 1, 'Satire', 1945)\n",
        "\n",
        "CREATE TABLE authors (\n",
        "  author_id INT,\n",
        "  name VARCHAR,\n",
        "  nationality VARCHAR\n",
        ");\n",
        "\n",
        "-- Sample rows\n",
        "-- (1, 'George Orwell', 'British')\n",
        "-- (2, 'Aldous Huxley', 'British')\n",
        "-- (3, 'Isaac Asimov', 'American')\n",
        "\n",
        "CREATE TABLE sales (\n",
        "  sale_id INT,\n",
        "  book_id INT,\n",
        "  sale_date DATE,\n",
        "  price FLOAT\n",
        ");\n",
        "\n",
        "-- Sample rows\n",
        "-- (1, 1, '2022-01-15', 15.99)\n",
        "-- (2, 2, '2022-01-20', 12.99)\n",
        "-- (3, 1, '2022-02-10', 14.99)\n",
        "\"\"\"} ]\n",
        "\n",
        "# Few-shots\n",
        "context.append({'role': 'system', 'content': \"\"\"\n",
        "-- Maintain the SQL order simple and efficient as you can, using valid SQLite.\n",
        "-- Answer the following questions based on the tables above.\n",
        "\n",
        "-- Q: What is the title of the most sold book?\n",
        "SELECT b.title\n",
        "FROM books b\n",
        "JOIN sales s ON b.book_id = s.book_id\n",
        "GROUP BY b.title\n",
        "ORDER BY COUNT(s.sale_id) DESC\n",
        "LIMIT 1;\n",
        "\n",
        "-- Q: How many books did George Orwell write?\n",
        "SELECT COUNT(*)\n",
        "FROM books b\n",
        "JOIN authors a ON b.author_id = a.author_id\n",
        "WHERE a.name = 'George Orwell';\n",
        "\n",
        "-- Q: What is the average price of books written by British authors?\n",
        "SELECT AVG(s.price)\n",
        "FROM sales s\n",
        "JOIN books b ON s.book_id = b.book_id\n",
        "JOIN authors a ON b.author_id = a.author_id\n",
        "WHERE a.nationality = 'British';\n",
        "\"\"\"})\n",
        "\n",
        "# Define the function to call the OpenAI API\n",
        "def return_CCRMSQL(user_message, context):\n",
        "    client = OpenAI(api_key=OPENAI_API_KEY)\n",
        "    newcontext = context.copy()\n",
        "    newcontext.append({'role':'user', 'content':\"question: \" + user_message})\n",
        "    response = client.chat.completions.create(\n",
        "            model=\"gpt-4o\",\n",
        "            messages=newcontext,\n",
        "            temperature=0, # using this temperature for more consistent results\n",
        "        )\n",
        "    return (response.choices[0].message.content)\n",
        "\n",
        "# Book sales question\n",
        "user_query = \"Which year had the highest number of book sales?\"\n",
        "print(return_CCRMSQL(user_query, context))\n"
      ]
    },
    {
      "cell_type": "markdown",
      "id": "gQTC8Pi1FPwv",
      "metadata": {
        "id": "gQTC8Pi1FPwv"
      },
      "source": [
        "# Reflections"
      ]
    },
    {
      "cell_type": "markdown",
      "id": "sWbtU05PF515",
      "metadata": {
        "id": "sWbtU05PF515"
      },
      "source": [
        "I've been playing around with GPT-4o to generate SQL from regular English questions, and it's working pretty good. The AI does a solid job translating what I ask into proper SQL code and gives me structured results that make sense.\n",
        "\n",
        "The model sometimes struggles to fully understand the context of what I'm asking, gets confused with ambiguous questions, and occasionally the performance could be better.\n",
        "\n",
        "I'm thinking of making some improvements like:\n",
        "\n",
        "- Helping the model better understand database schemas\n",
        "- Adding some validation to double-check the SQL is accurate\n",
        "- Making the queries more efficient (but i dont know enough about SQL.)\n",
        "\n",
        "I have set up the database schema, included some sample data, and added a few example queries as few-shot prompts to guide the model. I used gpt-4o with temperature=0 for consistent results. The function structure makes it easy to pass in new questions and get SQL back."
      ]
    }
  ],
  "metadata": {
    "accelerator": "GPU",
    "colab": {
      "gpuType": "L4",
      "machine_shape": "hm",
      "provenance": []
    },
    "kernelspec": {
      "display_name": "Python 3",
      "name": "python3"
    },
    "language_info": {
      "codemirror_mode": {
        "name": "ipython",
        "version": 3
      },
      "file_extension": ".py",
      "mimetype": "text/x-python",
      "name": "python",
      "nbconvert_exporter": "python",
      "pygments_lexer": "ipython3",
      "version": "3.11.8"
    }
  },
  "nbformat": 4,
  "nbformat_minor": 5
}
